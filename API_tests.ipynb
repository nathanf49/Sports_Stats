{
 "cells": [
  {
   "cell_type": "code",
   "execution_count": null,
   "metadata": {},
   "outputs": [],
   "source": [
    "import flask_API\n",
    "\n",
    "def test_available_tables():\n",
    "    flask_API.available_tables()\n",
    "    \n",
    "def test_available_fields():\n",
    "    flask_API.available_fields(\"team_info\")\n",
    "    flask_API.available_fields(\"fake table\")\n",
    "    \n",
    "def test_available_players():\n",
    "    flask_API.available_players(\"roster\")\n",
    "    flask_API.available_players(\"fake table\")\n",
    "    \n"
   ]
  }
 ],
 "metadata": {
  "kernelspec": {
   "display_name": "Python 3",
   "language": "python",
   "name": "python3"
  },
  "language_info": {
   "codemirror_mode": {
    "name": "ipython",
    "version": 3
   },
   "file_extension": ".py",
   "mimetype": "text/x-python",
   "name": "python",
   "nbconvert_exporter": "python",
   "pygments_lexer": "ipython3",
   "version": "3.8.10"
  }
 },
 "nbformat": 4,
 "nbformat_minor": 4
}
